{
 "cells": [
  {
   "cell_type": "code",
   "execution_count": null,
   "outputs": [],
   "source": [
    "import pandas as pd"
   ],
   "metadata": {
    "collapsed": false,
    "pycharm": {
     "name": "#%%\n"
    }
   }
  },
  {
   "cell_type": "code",
   "execution_count": 48,
   "outputs": [
    {
     "name": "stdout",
     "output_type": "stream",
     "text": [
      "<class 'pandas.core.frame.DataFrame'>\n",
      "RangeIndex: 25701 entries, 0 to 25700\n",
      "Data columns (total 4 columns):\n",
      " #   Column      Non-Null Count  Dtype \n",
      "---  ------      --------------  ----- \n",
      " 0   Unnamed: 0  25701 non-null  int64 \n",
      " 1   tokens      25701 non-null  object\n",
      " 2   slot_tags   25701 non-null  object\n",
      " 3   intent      25701 non-null  object\n",
      "dtypes: int64(1), object(3)\n",
      "memory usage: 803.3+ KB\n"
     ]
    }
   ],
   "source": [
    "df = pd.read_csv('~/projects/id-sf/data/nlu-data/nlub.csv', sep=';')\n",
    "\n",
    "df.info()"
   ],
   "metadata": {
    "collapsed": false,
    "pycharm": {
     "name": "#%%\n"
    }
   }
  },
  {
   "cell_type": "code",
   "execution_count": 49,
   "outputs": [
    {
     "data": {
      "text/plain": "   Unnamed: 0                                        tokens  \\\n0           0               wake me up at five am this week   \n1           1               wake me up at nine am on friday   \n2           2           set an alarm for two hours from now   \n3           3                                         quiet   \n4           4                                          stop   \n5           5                         pause for ten seconds   \n6           6                           pink is all we need   \n7           7          make the lighting bit more warm here   \n8           8  please set the lighting suitable for reading   \n9           9                    turn the lights off please   \n\n                                  slot_tags               intent  \n0               O O O O time time date date            alarm_set  \n1                  O O O O time time O date            alarm_set  \n2               O O O O time time time time            alarm_set  \n3                                         O    audio_volume_mute  \n4                                         O    audio_volume_mute  \n5                             O O time time    audio_volume_mute  \n6                        color_type O O O O  iot_hue_lightchange  \n7                    O O O O O color_type O  iot_hue_lightchange  \n8  O O O O color_type color_type color_type  iot_hue_lightchange  \n9                                 O O O O O     iot_hue_lightoff  ",
      "text/html": "<div>\n<style scoped>\n    .dataframe tbody tr th:only-of-type {\n        vertical-align: middle;\n    }\n\n    .dataframe tbody tr th {\n        vertical-align: top;\n    }\n\n    .dataframe thead th {\n        text-align: right;\n    }\n</style>\n<table border=\"1\" class=\"dataframe\">\n  <thead>\n    <tr style=\"text-align: right;\">\n      <th></th>\n      <th>Unnamed: 0</th>\n      <th>tokens</th>\n      <th>slot_tags</th>\n      <th>intent</th>\n    </tr>\n  </thead>\n  <tbody>\n    <tr>\n      <th>0</th>\n      <td>0</td>\n      <td>wake me up at five am this week</td>\n      <td>O O O O time time date date</td>\n      <td>alarm_set</td>\n    </tr>\n    <tr>\n      <th>1</th>\n      <td>1</td>\n      <td>wake me up at nine am on friday</td>\n      <td>O O O O time time O date</td>\n      <td>alarm_set</td>\n    </tr>\n    <tr>\n      <th>2</th>\n      <td>2</td>\n      <td>set an alarm for two hours from now</td>\n      <td>O O O O time time time time</td>\n      <td>alarm_set</td>\n    </tr>\n    <tr>\n      <th>3</th>\n      <td>3</td>\n      <td>quiet</td>\n      <td>O</td>\n      <td>audio_volume_mute</td>\n    </tr>\n    <tr>\n      <th>4</th>\n      <td>4</td>\n      <td>stop</td>\n      <td>O</td>\n      <td>audio_volume_mute</td>\n    </tr>\n    <tr>\n      <th>5</th>\n      <td>5</td>\n      <td>pause for ten seconds</td>\n      <td>O O time time</td>\n      <td>audio_volume_mute</td>\n    </tr>\n    <tr>\n      <th>6</th>\n      <td>6</td>\n      <td>pink is all we need</td>\n      <td>color_type O O O O</td>\n      <td>iot_hue_lightchange</td>\n    </tr>\n    <tr>\n      <th>7</th>\n      <td>7</td>\n      <td>make the lighting bit more warm here</td>\n      <td>O O O O O color_type O</td>\n      <td>iot_hue_lightchange</td>\n    </tr>\n    <tr>\n      <th>8</th>\n      <td>8</td>\n      <td>please set the lighting suitable for reading</td>\n      <td>O O O O color_type color_type color_type</td>\n      <td>iot_hue_lightchange</td>\n    </tr>\n    <tr>\n      <th>9</th>\n      <td>9</td>\n      <td>turn the lights off please</td>\n      <td>O O O O O</td>\n      <td>iot_hue_lightoff</td>\n    </tr>\n  </tbody>\n</table>\n</div>"
     },
     "execution_count": 49,
     "metadata": {},
     "output_type": "execute_result"
    }
   ],
   "source": [
    "df.head(10)"
   ],
   "metadata": {
    "collapsed": false,
    "pycharm": {
     "name": "#%%\n"
    }
   }
  },
  {
   "cell_type": "code",
   "execution_count": 50,
   "outputs": [
    {
     "data": {
      "text/plain": "68"
     },
     "execution_count": 50,
     "metadata": {},
     "output_type": "execute_result"
    }
   ],
   "source": [
    "n_intents = df['intent'].unique()\n",
    "\n",
    "len(n_intents)"
   ],
   "metadata": {
    "collapsed": false,
    "pycharm": {
     "name": "#%%\n"
    }
   }
  },
  {
   "cell_type": "code",
   "execution_count": 47,
   "outputs": [
    {
     "data": {
      "text/plain": "calendar_set          1448\nplay_music            1203\ngeneral_quirky        1088\nweather_query         1062\nqa_factoid            1051\n                      ... \niot_hue_lighton         39\ngeneral_greet           25\nmusic_dislikeness       25\naudio_volume_other      24\ncooking_query            6\nName: intent, Length: 68, dtype: int64"
     },
     "execution_count": 47,
     "metadata": {},
     "output_type": "execute_result"
    }
   ],
   "source": [
    "df['intent'].value_counts()"
   ],
   "metadata": {
    "collapsed": false,
    "pycharm": {
     "name": "#%%\n"
    }
   }
  },
  {
   "cell_type": "code",
   "execution_count": null,
   "outputs": [],
   "source": [],
   "metadata": {
    "collapsed": false,
    "pycharm": {
     "name": "#%%\n"
    }
   }
  }
 ],
 "metadata": {
  "kernelspec": {
   "display_name": "Python 3",
   "language": "python",
   "name": "python3"
  },
  "language_info": {
   "codemirror_mode": {
    "name": "ipython",
    "version": 2
   },
   "file_extension": ".py",
   "mimetype": "text/x-python",
   "name": "python",
   "nbconvert_exporter": "python",
   "pygments_lexer": "ipython2",
   "version": "2.7.6"
  }
 },
 "nbformat": 4,
 "nbformat_minor": 0
}