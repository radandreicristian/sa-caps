{
 "cells": [
  {
   "cell_type": "code",
   "execution_count": 21,
   "metadata": {
    "collapsed": true
   },
   "outputs": [
    {
     "name": "stdout",
     "output_type": "stream",
     "text": [
      "The autoreload extension is already loaded. To reload it, use:\n",
      "  %reload_ext autoreload\n"
     ]
    }
   ],
   "source": [
    "import numpy as np\n",
    "import pandas as pd\n",
    "import torch\n",
    "from src.utils.padding import pad_sequence\n",
    "import sklearn.preprocessing as p\n",
    "\n",
    "%load_ext autoreload\n",
    "%autoreload 2"
   ]
  },
  {
   "cell_type": "code",
   "execution_count": 11,
   "outputs": [
    {
     "data": {
      "text/plain": "pandas.core.frame.DataFrame"
     },
     "execution_count": 11,
     "metadata": {},
     "output_type": "execute_result"
    }
   ],
   "source": [
    "nlub_path = '/home/rad/projects/id-sf/data/datasets/nlu-benchmark/nlub.csv'\n",
    "\n",
    "df = pd.read_csv(nlub_path, sep=';')\n",
    "\n",
    "type(df)"
   ],
   "metadata": {
    "collapsed": false,
    "pycharm": {
     "name": "#%%\n"
    }
   }
  },
  {
   "cell_type": "code",
   "execution_count": 12,
   "outputs": [
    {
     "data": {
      "text/plain": "   Unnamed: 0                                        tokens  \\\n0           0               wake me up at five am this week   \n1           1               wake me up at nine am on friday   \n2           2           set an alarm for two hours from now   \n3           3                                         quiet   \n4           4                                          stop   \n5           5                         pause for ten seconds   \n6           6                           pink is all we need   \n7           7          make the lighting bit more warm here   \n8           8  please set the lighting suitable for reading   \n9           9                    turn the lights off please   \n\n                                  slot_tags               intent  \n0               O O O O time time date date            alarm_set  \n1                  O O O O time time O date            alarm_set  \n2               O O O O time time time time            alarm_set  \n3                                         O    audio_volume_mute  \n4                                         O    audio_volume_mute  \n5                             O O time time    audio_volume_mute  \n6                        color_type O O O O  iot_hue_lightchange  \n7                    O O O O O color_type O  iot_hue_lightchange  \n8  O O O O color_type color_type color_type  iot_hue_lightchange  \n9                                 O O O O O     iot_hue_lightoff  ",
      "text/html": "<div>\n<style scoped>\n    .dataframe tbody tr th:only-of-type {\n        vertical-align: middle;\n    }\n\n    .dataframe tbody tr th {\n        vertical-align: top;\n    }\n\n    .dataframe thead th {\n        text-align: right;\n    }\n</style>\n<table border=\"1\" class=\"dataframe\">\n  <thead>\n    <tr style=\"text-align: right;\">\n      <th></th>\n      <th>Unnamed: 0</th>\n      <th>tokens</th>\n      <th>slot_tags</th>\n      <th>intent</th>\n    </tr>\n  </thead>\n  <tbody>\n    <tr>\n      <th>0</th>\n      <td>0</td>\n      <td>wake me up at five am this week</td>\n      <td>O O O O time time date date</td>\n      <td>alarm_set</td>\n    </tr>\n    <tr>\n      <th>1</th>\n      <td>1</td>\n      <td>wake me up at nine am on friday</td>\n      <td>O O O O time time O date</td>\n      <td>alarm_set</td>\n    </tr>\n    <tr>\n      <th>2</th>\n      <td>2</td>\n      <td>set an alarm for two hours from now</td>\n      <td>O O O O time time time time</td>\n      <td>alarm_set</td>\n    </tr>\n    <tr>\n      <th>3</th>\n      <td>3</td>\n      <td>quiet</td>\n      <td>O</td>\n      <td>audio_volume_mute</td>\n    </tr>\n    <tr>\n      <th>4</th>\n      <td>4</td>\n      <td>stop</td>\n      <td>O</td>\n      <td>audio_volume_mute</td>\n    </tr>\n    <tr>\n      <th>5</th>\n      <td>5</td>\n      <td>pause for ten seconds</td>\n      <td>O O time time</td>\n      <td>audio_volume_mute</td>\n    </tr>\n    <tr>\n      <th>6</th>\n      <td>6</td>\n      <td>pink is all we need</td>\n      <td>color_type O O O O</td>\n      <td>iot_hue_lightchange</td>\n    </tr>\n    <tr>\n      <th>7</th>\n      <td>7</td>\n      <td>make the lighting bit more warm here</td>\n      <td>O O O O O color_type O</td>\n      <td>iot_hue_lightchange</td>\n    </tr>\n    <tr>\n      <th>8</th>\n      <td>8</td>\n      <td>please set the lighting suitable for reading</td>\n      <td>O O O O color_type color_type color_type</td>\n      <td>iot_hue_lightchange</td>\n    </tr>\n    <tr>\n      <th>9</th>\n      <td>9</td>\n      <td>turn the lights off please</td>\n      <td>O O O O O</td>\n      <td>iot_hue_lightoff</td>\n    </tr>\n  </tbody>\n</table>\n</div>"
     },
     "execution_count": 12,
     "metadata": {},
     "output_type": "execute_result"
    }
   ],
   "source": [
    "df.head(10)"
   ],
   "metadata": {
    "collapsed": false,
    "pycharm": {
     "name": "#%%\n"
    }
   }
  },
  {
   "cell_type": "code",
   "execution_count": 13,
   "outputs": [
    {
     "data": {
      "text/plain": "   Unnamed: 0                                             tokens  \\\n0           0  <pad> <pad> <pad> <pad> <pad> <pad> <pad> <pad...   \n1           1  <pad> <pad> <pad> <pad> <pad> <pad> <pad> <pad...   \n2           2  <pad> <pad> <pad> <pad> <pad> <pad> <pad> <pad...   \n3           3  <pad> <pad> <pad> <pad> <pad> <pad> <pad> <pad...   \n4           4  <pad> <pad> <pad> <pad> <pad> <pad> <pad> <pad...   \n5           5  <pad> <pad> <pad> <pad> <pad> <pad> <pad> <pad...   \n6           6  <pad> <pad> <pad> <pad> <pad> <pad> <pad> <pad...   \n7           7  <pad> <pad> <pad> <pad> <pad> <pad> <pad> <pad...   \n8           8  <pad> <pad> <pad> <pad> <pad> <pad> <pad> <pad...   \n9           9  <pad> <pad> <pad> <pad> <pad> <pad> <pad> <pad...   \n\n                                           slot_tags               intent  \n0  O O O O O O O O O O O O O O O O O time time da...            alarm_set  \n1  O O O O O O O O O O O O O O O O O time time O ...            alarm_set  \n2  O O O O O O O O O O O O O O O O O time time ti...            alarm_set  \n3  O O O O O O O O O O O O O O O O O O O O O O O ...    audio_volume_mute  \n4  O O O O O O O O O O O O O O O O O O O O O O O ...    audio_volume_mute  \n5  O O O O O O O O O O O O O O O O O time time O ...    audio_volume_mute  \n6  O O O O O O O O O O O O O O O color_type O O O...  iot_hue_lightchange  \n7  O O O O O O O O O O O O O O O O O O O color_ty...  iot_hue_lightchange  \n8  O O O O O O O O O O O O O O O O O O color_type...  iot_hue_lightchange  \n9  O O O O O O O O O O O O O O O O O O O O O O O ...     iot_hue_lightoff  ",
      "text/html": "<div>\n<style scoped>\n    .dataframe tbody tr th:only-of-type {\n        vertical-align: middle;\n    }\n\n    .dataframe tbody tr th {\n        vertical-align: top;\n    }\n\n    .dataframe thead th {\n        text-align: right;\n    }\n</style>\n<table border=\"1\" class=\"dataframe\">\n  <thead>\n    <tr style=\"text-align: right;\">\n      <th></th>\n      <th>Unnamed: 0</th>\n      <th>tokens</th>\n      <th>slot_tags</th>\n      <th>intent</th>\n    </tr>\n  </thead>\n  <tbody>\n    <tr>\n      <th>0</th>\n      <td>0</td>\n      <td>&lt;pad&gt; &lt;pad&gt; &lt;pad&gt; &lt;pad&gt; &lt;pad&gt; &lt;pad&gt; &lt;pad&gt; &lt;pad...</td>\n      <td>O O O O O O O O O O O O O O O O O time time da...</td>\n      <td>alarm_set</td>\n    </tr>\n    <tr>\n      <th>1</th>\n      <td>1</td>\n      <td>&lt;pad&gt; &lt;pad&gt; &lt;pad&gt; &lt;pad&gt; &lt;pad&gt; &lt;pad&gt; &lt;pad&gt; &lt;pad...</td>\n      <td>O O O O O O O O O O O O O O O O O time time O ...</td>\n      <td>alarm_set</td>\n    </tr>\n    <tr>\n      <th>2</th>\n      <td>2</td>\n      <td>&lt;pad&gt; &lt;pad&gt; &lt;pad&gt; &lt;pad&gt; &lt;pad&gt; &lt;pad&gt; &lt;pad&gt; &lt;pad...</td>\n      <td>O O O O O O O O O O O O O O O O O time time ti...</td>\n      <td>alarm_set</td>\n    </tr>\n    <tr>\n      <th>3</th>\n      <td>3</td>\n      <td>&lt;pad&gt; &lt;pad&gt; &lt;pad&gt; &lt;pad&gt; &lt;pad&gt; &lt;pad&gt; &lt;pad&gt; &lt;pad...</td>\n      <td>O O O O O O O O O O O O O O O O O O O O O O O ...</td>\n      <td>audio_volume_mute</td>\n    </tr>\n    <tr>\n      <th>4</th>\n      <td>4</td>\n      <td>&lt;pad&gt; &lt;pad&gt; &lt;pad&gt; &lt;pad&gt; &lt;pad&gt; &lt;pad&gt; &lt;pad&gt; &lt;pad...</td>\n      <td>O O O O O O O O O O O O O O O O O O O O O O O ...</td>\n      <td>audio_volume_mute</td>\n    </tr>\n    <tr>\n      <th>5</th>\n      <td>5</td>\n      <td>&lt;pad&gt; &lt;pad&gt; &lt;pad&gt; &lt;pad&gt; &lt;pad&gt; &lt;pad&gt; &lt;pad&gt; &lt;pad...</td>\n      <td>O O O O O O O O O O O O O O O O O time time O ...</td>\n      <td>audio_volume_mute</td>\n    </tr>\n    <tr>\n      <th>6</th>\n      <td>6</td>\n      <td>&lt;pad&gt; &lt;pad&gt; &lt;pad&gt; &lt;pad&gt; &lt;pad&gt; &lt;pad&gt; &lt;pad&gt; &lt;pad...</td>\n      <td>O O O O O O O O O O O O O O O color_type O O O...</td>\n      <td>iot_hue_lightchange</td>\n    </tr>\n    <tr>\n      <th>7</th>\n      <td>7</td>\n      <td>&lt;pad&gt; &lt;pad&gt; &lt;pad&gt; &lt;pad&gt; &lt;pad&gt; &lt;pad&gt; &lt;pad&gt; &lt;pad...</td>\n      <td>O O O O O O O O O O O O O O O O O O O color_ty...</td>\n      <td>iot_hue_lightchange</td>\n    </tr>\n    <tr>\n      <th>8</th>\n      <td>8</td>\n      <td>&lt;pad&gt; &lt;pad&gt; &lt;pad&gt; &lt;pad&gt; &lt;pad&gt; &lt;pad&gt; &lt;pad&gt; &lt;pad...</td>\n      <td>O O O O O O O O O O O O O O O O O O color_type...</td>\n      <td>iot_hue_lightchange</td>\n    </tr>\n    <tr>\n      <th>9</th>\n      <td>9</td>\n      <td>&lt;pad&gt; &lt;pad&gt; &lt;pad&gt; &lt;pad&gt; &lt;pad&gt; &lt;pad&gt; &lt;pad&gt; &lt;pad...</td>\n      <td>O O O O O O O O O O O O O O O O O O O O O O O ...</td>\n      <td>iot_hue_lightoff</td>\n    </tr>\n  </tbody>\n</table>\n</div>"
     },
     "execution_count": 13,
     "metadata": {},
     "output_type": "execute_result"
    }
   ],
   "source": [
    "\n",
    "df['tokens'] = df.apply(lambda row: pad_sequence(row['tokens'], max_len=35, pad_value='<pad>'), axis=1)\n",
    "df['slot_tags'] = df.apply(lambda row: pad_sequence(row['slot_tags'], max_len=35, pad_value='O'), axis=1)\n",
    "\n",
    "df.head(10)"
   ],
   "metadata": {
    "collapsed": false,
    "pycharm": {
     "name": "#%%\n"
    }
   }
  },
  {
   "cell_type": "code",
   "execution_count": 18,
   "outputs": [
    {
     "data": {
      "text/plain": "array([['<pad>', '<pad>', '<pad>', ..., '<pad>', '<pad>', '<pad>'],\n       ['<pad>', '<pad>', '<pad>', ..., '<pad>', '<pad>', '<pad>'],\n       ['<pad>', '<pad>', '<pad>', ..., '<pad>', '<pad>', '<pad>'],\n       ...,\n       ['<pad>', '<pad>', '<pad>', ..., '<pad>', '<pad>', '<pad>'],\n       ['<pad>', '<pad>', '<pad>', ..., '<pad>', '<pad>', '<pad>'],\n       ['<pad>', '<pad>', '<pad>', ..., '<pad>', '<pad>', '<pad>']],\n      dtype=object)"
     },
     "execution_count": 18,
     "metadata": {},
     "output_type": "execute_result"
    }
   ],
   "source": [
    "x = df['tokens']\n",
    "x = np.array([np.array(el.split(), dtype=object) for el in x])\n",
    "x = np.stack(x)\n",
    "x"
   ],
   "metadata": {
    "collapsed": false,
    "pycharm": {
     "name": "#%%\n"
    }
   }
  },
  {
   "cell_type": "code",
   "execution_count": 25,
   "outputs": [
    {
     "data": {
      "text/plain": "array([[[1., 0., 0., ..., 0., 0., 0.],\n        [1., 0., 0., ..., 0., 0., 0.],\n        [1., 0., 0., ..., 0., 0., 0.],\n        ...,\n        [1., 0., 0., ..., 0., 0., 0.],\n        [1., 0., 0., ..., 0., 0., 0.],\n        [1., 0., 0., ..., 0., 0., 0.]],\n\n       [[1., 0., 0., ..., 0., 0., 0.],\n        [1., 0., 0., ..., 0., 0., 0.],\n        [1., 0., 0., ..., 0., 0., 0.],\n        ...,\n        [1., 0., 0., ..., 0., 0., 0.],\n        [1., 0., 0., ..., 0., 0., 0.],\n        [1., 0., 0., ..., 0., 0., 0.]],\n\n       [[1., 0., 0., ..., 0., 0., 0.],\n        [1., 0., 0., ..., 0., 0., 0.],\n        [1., 0., 0., ..., 0., 0., 0.],\n        ...,\n        [1., 0., 0., ..., 0., 0., 0.],\n        [1., 0., 0., ..., 0., 0., 0.],\n        [1., 0., 0., ..., 0., 0., 0.]],\n\n       ...,\n\n       [[1., 0., 0., ..., 0., 0., 0.],\n        [1., 0., 0., ..., 0., 0., 0.],\n        [1., 0., 0., ..., 0., 0., 0.],\n        ...,\n        [1., 0., 0., ..., 0., 0., 0.],\n        [1., 0., 0., ..., 0., 0., 0.],\n        [1., 0., 0., ..., 0., 0., 0.]],\n\n       [[1., 0., 0., ..., 0., 0., 0.],\n        [1., 0., 0., ..., 0., 0., 0.],\n        [1., 0., 0., ..., 0., 0., 0.],\n        ...,\n        [1., 0., 0., ..., 0., 0., 0.],\n        [1., 0., 0., ..., 0., 0., 0.],\n        [1., 0., 0., ..., 0., 0., 0.]],\n\n       [[1., 0., 0., ..., 0., 0., 0.],\n        [1., 0., 0., ..., 0., 0., 0.],\n        [1., 0., 0., ..., 0., 0., 0.],\n        ...,\n        [1., 0., 0., ..., 0., 0., 0.],\n        [1., 0., 0., ..., 0., 0., 0.],\n        [1., 0., 0., ..., 0., 0., 0.]]])"
     },
     "execution_count": 25,
     "metadata": {},
     "output_type": "execute_result"
    }
   ],
   "source": [
    "slots = df['slot_tags']\n",
    "slots = np.array([np.array(el.split(), dtype=object) for el in slots])\n",
    "slots = np.stack(slots)\n",
    "\n",
    "# (n_samples * max_seq_len)\n",
    "shape = slots.shape\n",
    "slots_flat = slots.flatten()\n",
    "\n",
    "unique, inverse = np.unique(slots_flat, return_inverse=True)\n",
    "onehot = np.eye(unique.shape[0])[inverse]\n",
    "\n",
    "onehot_shape = shape + (-1,)\n",
    "\n",
    "slots = onehot.reshape(onehot_shape)\n",
    "\n",
    "slots"
   ],
   "metadata": {
    "collapsed": false,
    "pycharm": {
     "name": "#%%\n"
    }
   }
  },
  {
   "cell_type": "code",
   "execution_count": 31,
   "outputs": [
    {
     "data": {
      "text/plain": "torch.Size([25701, 68])"
     },
     "execution_count": 31,
     "metadata": {},
     "output_type": "execute_result"
    }
   ],
   "source": [
    "intents = np.array(df['intent']).reshape(-1, 1)\n",
    "\n",
    "i = torch.Tensor(p.OneHotEncoder().fit_transform(intents).toarray())\n",
    "i.shape"
   ],
   "metadata": {
    "collapsed": false,
    "pycharm": {
     "name": "#%%\n"
    }
   }
  },
  {
   "cell_type": "code",
   "execution_count": null,
   "outputs": [],
   "source": [],
   "metadata": {
    "collapsed": false,
    "pycharm": {
     "name": "#%%\n"
    }
   }
  }
 ],
 "metadata": {
  "kernelspec": {
   "display_name": "Python 3",
   "language": "python",
   "name": "python3"
  },
  "language_info": {
   "codemirror_mode": {
    "name": "ipython",
    "version": 2
   },
   "file_extension": ".py",
   "mimetype": "text/x-python",
   "name": "python",
   "nbconvert_exporter": "python",
   "pygments_lexer": "ipython2",
   "version": "2.7.6"
  }
 },
 "nbformat": 4,
 "nbformat_minor": 0
}